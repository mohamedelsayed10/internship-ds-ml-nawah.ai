{
 "cells": [
  {
   "cell_type": "code",
   "execution_count": 1,
   "metadata": {
    "execution": {
     "iopub.execute_input": "2021-07-27T16:40:21.191834Z",
     "iopub.status.busy": "2021-07-27T16:40:21.191413Z",
     "iopub.status.idle": "2021-07-27T16:40:21.197685Z",
     "shell.execute_reply": "2021-07-27T16:40:21.196727Z",
     "shell.execute_reply.started": "2021-07-27T16:40:21.191793Z"
    }
   },
   "outputs": [],
   "source": [
    "import numpy as np\n",
    "import pandas as pd\n",
    "import matplotlib.pyplot as plt\n",
    "import seaborn as sns\n",
    "import tensorflow as tf\n",
    "from tensorflow import keras\n",
    "from tensorflow.keras import Sequential\n",
    "from tensorflow.keras import layers\n",
    "from sklearn.metrics import confusion_matrix, classification_report"
   ]
  },
  {
   "cell_type": "code",
   "execution_count": 14,
   "metadata": {
    "execution": {
     "iopub.execute_input": "2021-07-27T16:40:21.199641Z",
     "iopub.status.busy": "2021-07-27T16:40:21.199310Z",
     "iopub.status.idle": "2021-07-27T16:40:21.209516Z",
     "shell.execute_reply": "2021-07-27T16:40:21.208781Z",
     "shell.execute_reply.started": "2021-07-27T16:40:21.199604Z"
    }
   },
   "outputs": [
    {
     "name": "stdout",
     "output_type": "stream",
     "text": [
      "Found 5216 files belonging to 2 classes.\n"
     ]
    }
   ],
   "source": [
    "train_path = 'chest_xray/train'\n",
    "test_path = 'chest_xray/test'\n",
    "validation_path = 'chest_xray/val'\n",
    "train_data = tf.keras.preprocessing.image_dataset_from_directory(train_path)\n"
   ]
  },
  {
   "cell_type": "code",
   "execution_count": 16,
   "metadata": {},
   "outputs": [
    {
     "data": {
      "text/plain": [
       "Text(0.5, 1.0, 'Normal and Pneumonia of Train')"
      ]
     },
     "execution_count": 16,
     "metadata": {},
     "output_type": "execute_result"
    },
    {
     "data": {
      "image/png": "[encoded data removed]",
      "text/plain": [
       "<Figure size 432x288 with 1 Axes>"
      ]
     },
     "metadata": {
      "needs_background": "light"
     },
     "output_type": "display_data"
    }
   ],
   "source": [
    "import glob\n",
    "normal = glob.glob(train_path+\"/NORMAL/*.jpeg\")\n",
    "pneumonia = glob.glob(train_path+\"/PNEUMONIA/*.jpeg\")\n",
    "\n",
    "sns.barplot(x=[\"Normal\",\"Pneumonia\"],y=[len(normal),len(pneumonia)])\n",
    "plt.title('Normal and Pneumonia of Train')"
   ]
  },
  {
   "cell_type": "code",
   "execution_count": 3,
   "metadata": {
    "execution": {
     "iopub.execute_input": "2021-07-27T16:40:23.952794Z",
     "iopub.status.busy": "2021-07-27T16:40:23.952351Z",
     "iopub.status.idle": "2021-07-27T16:40:23.958661Z",
     "shell.execute_reply": "2021-07-27T16:40:23.957556Z",
     "shell.execute_reply.started": "2021-07-27T16:40:23.952761Z"
    }
   },
   "outputs": [],
   "source": [
    "train_data_generator = tf.keras.preprocessing.image.ImageDataGenerator(\n",
    "    rescale = 1.0/255.0)\n",
    "\n",
    "valid_data_generator = tf.keras.preprocessing.image.ImageDataGenerator(\n",
    "    rescale = 1.0/255.0)\n",
    "\n",
    "test_data_generator = tf.keras.preprocessing.image.ImageDataGenerator(\n",
    "rescale = 1.0 / 255.0)"
   ]
  },
  {
   "cell_type": "code",
   "execution_count": 4,
   "metadata": {
    "execution": {
     "iopub.execute_input": "2021-07-27T16:40:23.960379Z",
     "iopub.status.busy": "2021-07-27T16:40:23.959890Z",
     "iopub.status.idle": "2021-07-27T16:40:24.387903Z",
     "shell.execute_reply": "2021-07-27T16:40:24.387147Z",
     "shell.execute_reply.started": "2021-07-27T16:40:23.960343Z"
    }
   },
   "outputs": [
    {
     "name": "stdout",
     "output_type": "stream",
     "text": [
      "Found 5216 images belonging to 2 classes.\n",
      "Found 16 images belonging to 2 classes.\n",
      "Found 624 images belonging to 2 classes.\n"
     ]
    }
   ],
   "source": [
    "train_set = train_data_generator.flow_from_directory(\n",
    "    train_path,\n",
    "    target_size = (224, 224),\n",
    "    class_mode = 'binary',\n",
    "    color_mode = 'grayscale',\n",
    "    batch_size = 32,\n",
    "    shuffle = True\n",
    ")\n",
    "\n",
    "validation_set = test_data_generator.flow_from_directory(\n",
    "    validation_path,\n",
    "    target_size = (224, 224),\n",
    "    class_mode = 'binary',\n",
    "    color_mode = 'grayscale',\n",
    "    batch_size = 32,\n",
    "    shuffle = True\n",
    ")\n",
    "\n",
    "\n",
    "test_set = test_data_generator.flow_from_directory(\n",
    "    test_path,\n",
    "    target_size = (224, 224),\n",
    "    class_mode = 'binary',\n",
    "    color_mode = 'grayscale',\n",
    "    batch_size = 32,\n",
    "    shuffle = False\n",
    ")"
   ]
  },
  {
   "cell_type": "code",
   "execution_count": 5,
   "metadata": {
    "execution": {
     "iopub.execute_input": "2021-07-27T16:40:24.389159Z",
     "iopub.status.busy": "2021-07-27T16:40:24.388892Z",
     "iopub.status.idle": "2021-07-27T16:40:24.406279Z",
     "shell.execute_reply": "2021-07-27T16:40:24.404870Z",
     "shell.execute_reply.started": "2021-07-27T16:40:24.389134Z"
    }
   },
   "outputs": [],
   "source": [
    "model = tf.keras.Sequential([\n",
    "    layers.Conv2D(32, 3,activation = 'relu'),\n",
    "    layers.MaxPooling2D(),\n",
    "    layers.Conv2D(64, 3,activation = 'relu'),\n",
    "    layers.MaxPooling2D(),\n",
    "    layers.Flatten(),\n",
    "    layers.Dense(1, activation = 'sigmoid')\n",
    "])"
   ]
  },
  {
   "cell_type": "code",
   "execution_count": 6,
   "metadata": {
    "execution": {
     "iopub.execute_input": "2021-07-27T16:40:24.408258Z",
     "iopub.status.busy": "2021-07-27T16:40:24.407666Z",
     "iopub.status.idle": "2021-07-27T16:50:11.509325Z",
     "shell.execute_reply": "2021-07-27T16:50:11.508486Z",
     "shell.execute_reply.started": "2021-07-27T16:40:24.408221Z"
    }
   },
   "outputs": [
    {
     "name": "stdout",
     "output_type": "stream",
     "text": [
      "Epoch 1/10\n",
      "163/163 [==============================] - 312s 2s/step - loss: 0.2164 - accuracy: 0.9039 - AUC: 0.9603 - Precision: 0.9220 - Recall: 0.9512 - val_loss: 0.6146 - val_accuracy: 0.6875 - val_AUC: 1.0000 - val_Precision: 0.6154 - val_Recall: 1.0000\n",
      "Epoch 2/10\n",
      "163/163 [==============================] - 249s 2s/step - loss: 0.0939 - accuracy: 0.9668 - AUC: 0.9923 - Precision: 0.9783 - Recall: 0.9770 - val_loss: 0.5689 - val_accuracy: 0.7500 - val_AUC: 1.0000 - val_Precision: 0.6667 - val_Recall: 1.0000\n",
      "Epoch 3/10\n",
      "163/163 [==============================] - 219s 1s/step - loss: 0.0762 - accuracy: 0.9701 - AUC: 0.9948 - Precision: 0.9789 - Recall: 0.9809 - val_loss: 0.0599 - val_accuracy: 1.0000 - val_AUC: 1.0000 - val_Precision: 1.0000 - val_Recall: 1.0000\n",
      "Epoch 4/10\n",
      "163/163 [==============================] - 196s 1s/step - loss: 0.0552 - accuracy: 0.9772 - AUC: 0.9969 - Precision: 0.9845 - Recall: 0.9848 - val_loss: 0.3131 - val_accuracy: 0.8125 - val_AUC: 1.0000 - val_Precision: 0.7273 - val_Recall: 1.0000\n",
      "Epoch 5/10\n",
      "163/163 [==============================] - 208s 1s/step - loss: 0.0432 - accuracy: 0.9854 - AUC: 0.9982 - Precision: 0.9897 - Recall: 0.9907 - val_loss: 0.2258 - val_accuracy: 0.8750 - val_AUC: 1.0000 - val_Precision: 0.8000 - val_Recall: 1.0000\n",
      "Epoch 6/10\n",
      "163/163 [==============================] - 199s 1s/step - loss: 0.0330 - accuracy: 0.9879 - AUC: 0.9992 - Precision: 0.9925 - Recall: 0.9912 - val_loss: 0.0599 - val_accuracy: 1.0000 - val_AUC: 1.0000 - val_Precision: 1.0000 - val_Recall: 1.0000\n",
      "Epoch 7/10\n",
      "163/163 [==============================] - 206s 1s/step - loss: 0.0192 - accuracy: 0.9946 - AUC: 0.9997 - Precision: 0.9966 - Recall: 0.9961 - val_loss: 0.0263 - val_accuracy: 1.0000 - val_AUC: 1.0000 - val_Precision: 1.0000 - val_Recall: 1.0000\n",
      "Epoch 8/10\n",
      "163/163 [==============================] - 203s 1s/step - loss: 0.0118 - accuracy: 0.9969 - AUC: 0.9999 - Precision: 0.9974 - Recall: 0.9985 - val_loss: 0.0383 - val_accuracy: 1.0000 - val_AUC: 1.0000 - val_Precision: 1.0000 - val_Recall: 1.0000\n",
      "Epoch 9/10\n",
      "163/163 [==============================] - 219s 1s/step - loss: 0.0074 - accuracy: 0.9985 - AUC: 1.0000 - Precision: 0.9990 - Recall: 0.9990 - val_loss: 0.0777 - val_accuracy: 0.9375 - val_AUC: 1.0000 - val_Precision: 0.8889 - val_Recall: 1.0000\n",
      "Epoch 10/10\n",
      "163/163 [==============================] - 203s 1s/step - loss: 0.0032 - accuracy: 0.9996 - AUC: 1.0000 - Precision: 1.0000 - Recall: 0.9995 - val_loss: 0.1170 - val_accuracy: 0.9375 - val_AUC: 1.0000 - val_Precision: 0.8889 - val_Recall: 1.0000\n"
     ]
    }
   ],
   "source": [
    "model.compile(\n",
    "optimizer = 'adam',\n",
    "loss = 'binary_crossentropy',\n",
    "metrics = ['accuracy',                     \n",
    "           tf.keras.metrics.AUC(name = 'AUC'),\n",
    "           tf.keras.metrics.Precision(name = 'Precision'),\n",
    "           tf.keras.metrics.Recall(name = 'Recall')])\n",
    "model_base = model.fit(\n",
    "    train_set,\n",
    "    batch_size = 32,\n",
    "    validation_data = validation_set,\n",
    "    epochs = 10,)"
   ]
  },
  {
   "cell_type": "code",
   "execution_count": 8,
   "metadata": {},
   "outputs": [
    {
     "data": {
      "image/png": "[encoded data removed]",
      "text/plain": [
       "<Figure size 432x288 with 1 Axes>"
      ]
     },
     "metadata": {
      "needs_background": "light"
     },
     "output_type": "display_data"
    }
   ],
   "source": [
    "pd.DataFrame(model_base.history)[['accuracy','val_accuracy']].plot()\n",
    "plt.title(\"Accuracy\")\n",
    "plt.show()"
   ]
  },
  {
   "cell_type": "code",
   "execution_count": 9,
   "metadata": {},
   "outputs": [
    {
     "data": {
      "image/png": "[encoded data removed]",
      "text/plain": [
       "<Figure size 432x288 with 1 Axes>"
      ]
     },
     "metadata": {
      "needs_background": "light"
     },
     "output_type": "display_data"
    }
   ],
   "source": [
    "pd.DataFrame(model_base.history)[['loss','val_loss']].plot()\n",
    "plt.title(\"Loss\")\n",
    "plt.show()"
   ]
  },
  {
   "cell_type": "code",
   "execution_count": 22,
   "metadata": {},
   "outputs": [
    {
     "name": "stdout",
     "output_type": "stream",
     "text": [
      " first predictions: ['NORMAL', 'NORMAL', 'NORMAL', 'NORMAL', 'NORMAL']\n"
     ]
    }
   ],
   "source": [
    "pred = model.predict(test_set)\n",
    "pred = np.argmax(pred,axis=1)\n",
    "\n",
    "labels = (test_set.class_indices)\n",
    "labels = dict((v,k) for k,v in labels.items())\n",
    "pred = [labels[k] for k in pred]\n",
    "\n",
    "\n",
    "print(f' first predictions: {pred[:5]}')"
   ]
  },
  {
   "cell_type": "code",
   "execution_count": 23,
   "metadata": {
    "execution": {
     "iopub.execute_input": "2021-07-27T16:50:11.759226Z",
     "iopub.status.busy": "2021-07-27T16:50:11.758872Z",
     "iopub.status.idle": "2021-07-27T16:50:17.809368Z",
     "shell.execute_reply": "2021-07-27T16:50:17.808594Z",
     "shell.execute_reply.started": "2021-07-27T16:50:11.759190Z"
    }
   },
   "outputs": [
    {
     "name": "stdout",
     "output_type": "stream",
     "text": [
      "Accuracy:  0.74\n",
      "AUC:  0.76\n",
      "Precision:  0.71\n",
      "Recall:  0.99\n"
     ]
    }
   ],
   "source": [
    "results = model_base.model.evaluate(test_set, verbose = 0)\n",
    "accuracy = results[1]\n",
    "auc = results[2]\n",
    "precision = results[3]\n",
    "recall = results[4]\n",
    "print(\"Accuracy:  {:.2f}\".format(accuracy))\n",
    "print(\"AUC:  {:.2f}\".format(auc))\n",
    "print(\"Precision:  {:.2f}\".format(precision))\n",
    "print(\"Recall:  {:.2f}\".format(recall))\n"
   ]
  },
  {
   "cell_type": "code",
   "execution_count": 24,
   "metadata": {
    "execution": {
     "iopub.execute_input": "2021-07-27T16:50:17.811291Z",
     "iopub.status.busy": "2021-07-27T16:50:17.810687Z",
     "iopub.status.idle": "2021-07-27T16:50:17.821394Z",
     "shell.execute_reply": "2021-07-27T16:50:17.820620Z",
     "shell.execute_reply.started": "2021-07-27T16:50:17.811254Z"
    }
   },
   "outputs": [],
   "source": [
    "def evaluation(model, test_data):\n",
    "    \n",
    "    y_pred = np.squeeze((model_base.model.predict(test_set) >= 0.5).astype(np.int))\n",
    "    cm = confusion_matrix(test_set.labels, y_pred)\n",
    "    names = ['TN','Fp','Fn','Tp']\n",
    "    count = [\"{0:0.2f}\".format(value) for value in cm.flatten()]\n",
    "    percentages = [\"{0:5%}\".format(value) for value in cm.flatten()/np.sum(cm)]\n",
    "    labels = [f\"{v1}\\n{v2}\\n{v3}\" for v1, v2, v3 in zip(names,count,percentages)]\n",
    "    labels = np.asarray(labels).reshape(2,2)\n",
    "    \n",
    "\n",
    "    plt.figure(figsize=(7, 7))\n",
    "    sns.heatmap(cm, annot=labels, fmt='', vmin=0, cmap='Blues', cbar=False)\n",
    "    plt.xticks(ticks=np.arange(2) + 0.5, labels=[\"Negative\", \"Positive\"])\n",
    "    plt.yticks(ticks=np.arange(2) + 0.5, labels=[\"Negative\", \"Positive\"])\n",
    "    plt.xlabel(\"Predict\")\n",
    "    plt.ylabel(\"true\")\n",
    "    plt.title(\"Confusion Matrix\")\n",
    "    plt.show()\n",
    "    \n",
    "    \n",
    "    clr = classification_report(test_set.labels, y_pred, target_names=[\"NEGATIVE\", \"POSITIVE\"])\n",
    "    print(\"Classification Report:\\n\\n\", clr)"
   ]
  },
  {
   "cell_type": "code",
   "execution_count": 25,
   "metadata": {
    "execution": {
     "iopub.execute_input": "2021-07-27T16:50:17.823076Z",
     "iopub.status.busy": "2021-07-27T16:50:17.822556Z",
     "iopub.status.idle": "2021-07-27T16:50:23.769674Z",
     "shell.execute_reply": "2021-07-27T16:50:23.768755Z",
     "shell.execute_reply.started": "2021-07-27T16:50:17.823027Z"
    }
   },
   "outputs": [
    {
     "data": {
      "image/png": "[encoded data removed]",
      "text/plain": [
       "<Figure size 504x504 with 1 Axes>"
      ]
     },
     "metadata": {
      "needs_background": "light"
     },
     "output_type": "display_data"
    },
    {
     "name": "stdout",
     "output_type": "stream",
     "text": [
      "Classification Report:\n",
      "\n",
      "               precision    recall  f1-score   support\n",
      "\n",
      "    NEGATIVE       0.97      0.32      0.48       234\n",
      "    POSITIVE       0.71      0.99      0.83       390\n",
      "\n",
      "    accuracy                           0.74       624\n",
      "   macro avg       0.84      0.66      0.66       624\n",
      "weighted avg       0.81      0.74      0.70       624\n",
      "\n"
     ]
    }
   ],
   "source": [
    "evaluation(model, test_set)"
   ]
  }
 ],
 "metadata": {
  "kernelspec": {
   "display_name": "Python 3",
   "language": "python",
   "name": "python3"
  },
  "language_info": {
   "codemirror_mode": {
    "name": "ipython",
    "version": 3
   },
   "file_extension": ".py",
   "mimetype": "text/x-python",
   "name": "python",
   "nbconvert_exporter": "python",
   "pygments_lexer": "ipython3",
   "version": "3.8.3"
  }
 },
 "nbformat": 4,
 "nbformat_minor": 4
}
